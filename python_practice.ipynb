{
  "cells": [
    {
      "cell_type": "markdown",
      "metadata": {
        "id": "view-in-github",
        "colab_type": "text"
      },
      "source": [
        "<a href=\"https://colab.research.google.com/github/hasmitha23/python-basic-problems/blob/main/python_practice.ipynb\" target=\"_parent\"><img src=\"https://colab.research.google.com/assets/colab-badge.svg\" alt=\"Open In Colab\"/></a>"
      ]
    },
    {
      "cell_type": "markdown",
      "id": "ba2344a9",
      "metadata": {
        "id": "ba2344a9"
      },
      "source": [
        "## Basic Operations"
      ]
    },
    {
      "cell_type": "code",
      "execution_count": null,
      "id": "ae511b5e",
      "metadata": {
        "id": "ae511b5e"
      },
      "outputs": [],
      "source": [
        "print(\"Welcome to Python!\")"
      ]
    },
    {
      "cell_type": "code",
      "execution_count": null,
      "id": "e763f8fa",
      "metadata": {
        "id": "e763f8fa"
      },
      "outputs": [],
      "source": [
        "a = 5\n",
        "b = 7\n",
        "print('Sum:', a + b)"
      ]
    },
    {
      "cell_type": "code",
      "execution_count": null,
      "id": "a3090f69",
      "metadata": {
        "id": "a3090f69"
      },
      "outputs": [],
      "source": [
        "a = 3\n",
        "b = 4\n",
        "print('Product:', a * b)"
      ]
    },
    {
      "cell_type": "markdown",
      "id": "ad83f218",
      "metadata": {
        "id": "ad83f218"
      },
      "source": [
        "## Conditionals"
      ]
    },
    {
      "cell_type": "code",
      "execution_count": null,
      "id": "02615f19",
      "metadata": {
        "id": "02615f19"
      },
      "outputs": [],
      "source": [
        "num = 10\n",
        "if num % 2 == 0:\n",
        "    print('Even')\n",
        "else:\n",
        "    print('Odd')"
      ]
    },
    {
      "cell_type": "code",
      "execution_count": null,
      "id": "c40f624d",
      "metadata": {
        "id": "c40f624d"
      },
      "outputs": [],
      "source": [
        "a, b, c = 3, 7, 5\n",
        "if a > b and a > c:\n",
        "    print('Maximum:', a)\n",
        "elif b > c:\n",
        "    print('Maximum:', b)\n",
        "else:\n",
        "    print('Maximum:', c)"
      ]
    },
    {
      "cell_type": "code",
      "execution_count": null,
      "id": "8dc43869",
      "metadata": {
        "id": "8dc43869"
      },
      "outputs": [],
      "source": [
        "num = -5\n",
        "if num > 0:\n",
        "    print('Positive')\n",
        "elif num < 0:\n",
        "    print('Negative')\n",
        "else:\n",
        "    print('Zero')"
      ]
    },
    {
      "cell_type": "markdown",
      "id": "7a04e28c",
      "metadata": {
        "id": "7a04e28c"
      },
      "source": [
        "## Loops"
      ]
    },
    {
      "cell_type": "code",
      "execution_count": null,
      "id": "f2554ec5",
      "metadata": {
        "id": "f2554ec5"
      },
      "outputs": [],
      "source": [
        "for i in range(1, 11):\n",
        "    print(i, end=' ')"
      ]
    },
    {
      "cell_type": "code",
      "execution_count": null,
      "id": "85e29740",
      "metadata": {
        "id": "85e29740"
      },
      "outputs": [],
      "source": [
        "n = 5\n",
        "print('Sum:', sum(range(1, n+1)))"
      ]
    },
    {
      "cell_type": "code",
      "execution_count": null,
      "id": "3b771c22",
      "metadata": {
        "id": "3b771c22"
      },
      "outputs": [],
      "source": [
        "num = 3\n",
        "for i in range(1, 11):\n",
        "    print(f'{num} x {i} = {num*i}')"
      ]
    },
    {
      "cell_type": "markdown",
      "id": "42fd09db",
      "metadata": {
        "id": "42fd09db"
      },
      "source": [
        "## Functions"
      ]
    },
    {
      "cell_type": "code",
      "execution_count": null,
      "id": "8a26454f",
      "metadata": {
        "id": "8a26454f"
      },
      "outputs": [],
      "source": [
        "def add(a, b):\n",
        "    return a + b\n",
        "\n",
        "print('Sum:', add(4, 5))"
      ]
    },
    {
      "cell_type": "code",
      "execution_count": null,
      "id": "9a587fb6",
      "metadata": {
        "id": "9a587fb6"
      },
      "outputs": [],
      "source": [
        "def factorial(n):\n",
        "    return 1 if n == 0 else n * factorial(n-1)\n",
        "\n",
        "print('Factorial:', factorial(5))"
      ]
    },
    {
      "cell_type": "code",
      "execution_count": null,
      "id": "06ebfaec",
      "metadata": {
        "id": "06ebfaec"
      },
      "outputs": [],
      "source": [
        "def is_prime(n):\n",
        "    if n < 2:\n",
        "        return False\n",
        "    for i in range(2, int(n**0.5) + 1):\n",
        "        if n % i == 0:\n",
        "            return False\n",
        "    return True\n",
        "\n",
        "print('Is Prime:', is_prime(7))"
      ]
    },
    {
      "cell_type": "markdown",
      "id": "d798143f",
      "metadata": {
        "id": "d798143f"
      },
      "source": [
        "## Lists"
      ]
    },
    {
      "cell_type": "code",
      "execution_count": null,
      "id": "571e13c1",
      "metadata": {
        "id": "571e13c1"
      },
      "outputs": [],
      "source": [
        "lst = [10, 20, 5, 30]\n",
        "print('Largest:', max(lst))"
      ]
    },
    {
      "cell_type": "code",
      "execution_count": null,
      "id": "a6e5e864",
      "metadata": {
        "id": "a6e5e864"
      },
      "outputs": [],
      "source": [
        "lst = [1, 2, 3, 4]\n",
        "print('Reversed:', lst[::-1])"
      ]
    },
    {
      "cell_type": "code",
      "execution_count": null,
      "id": "79584bc2",
      "metadata": {
        "id": "79584bc2"
      },
      "outputs": [],
      "source": [
        "lst = [3, 1, 4, 2]\n",
        "print('Sorted Descending:', sorted(lst, reverse=True))"
      ]
    }
  ],
  "metadata": {
    "colab": {
      "provenance": [],
      "include_colab_link": true
    }
  },
  "nbformat": 4,
  "nbformat_minor": 5
}